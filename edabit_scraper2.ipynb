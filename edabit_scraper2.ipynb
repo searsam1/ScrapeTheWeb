{
 "cells": [
  {
   "cell_type": "code",
   "execution_count": 2,
   "metadata": {},
   "outputs": [],
   "source": [
    "\n",
    "import subprocess\n",
    "from bs4 import BeautifulSoup\n",
    "import time\n",
    "from selenium import webdriver\n",
    "from selenium.webdriver.common.by import By\n",
    "from selenium.webdriver.common.keys import Keys\n",
    "from selenium.webdriver.support.ui import WebDriverWait\n",
    "from selenium.webdriver.support import expected_conditions as EC\n",
    "from string import punctuation, printable\n"
   ]
  },
  {
   "cell_type": "code",
   "execution_count": null,
   "metadata": {},
   "outputs": [],
   "source": [
    "#⠀⠀⠀⠀\n",
    "def start_driver():\n",
    "    link = subprocess.run(['osascript', '-e ' 'tell app \"safari\"\\\n",
    "                        to get the url of the current tab of window 1']\n",
    "    , capture_output=True).stdout\n",
    "    link = link.rstrip(b\"\\n\") \n",
    "\n",
    "    driver = webdriver.Safari()\n",
    "    driver.get(link.decode())\n",
    "\n",
    "    WebDriverWait(driver, 20).until(\n",
    "        EC.visibility_of_element_located(\n",
    "            (By.XPATH, '//*[@id=\"Main\"]/div/\\\n",
    "                        div/div[1]/div/div[2]\\\n",
    "                        /div[1]/div/div/div[1]'\n",
    "            )\n",
    "                                        )\n",
    "                                    )\n",
    "\n",
    "    instrucs = driver.find_element(By.XPATH, '//*[@id=\"Main\"]/div/div/\\\n",
    "                                        div[1]/div/div[2]/div[1]/div')\n",
    "\n",
    "    code_btn = driver.find_element(By.XPATH, '//*[@id=\"Main\"]/div/div/\\\n",
    "                    div[1]/div/div[1]/div[2]\\\n",
    "                    /div/div/div/div[3]')                                        \n",
    "    code_btn.click()\n",
    "    WebDriverWait(driver, 20).until(\n",
    "        EC.visibility_of_element_located(\n",
    "            (By.XPATH, '//*[@id=\"Code\"]/div[1]'\n",
    "            )\n",
    "                                        )\n",
    "                                    )\n",
    "\n",
    "    code = driver.find_element(By.XPATH, '//*[@id=\"Code\"]/div[1]')\n",
    "\n",
    "    resource_btn = driver.find_element(By.XPATH, '//*[@id=\"Main\"]\\\n",
    "                                        /div/div/div[1]/div/div[1]\\\n",
    "                                         /div[2]/div/div/div/div[4]')\n",
    "    resource_btn.click()\n",
    "\n",
    "    WebDriverWait(driver, 20).until(\n",
    "        EC.visibility_of_element_located(\n",
    "            (By.XPATH, '//*[@id=\"Resources\"]/div/div[1]/a'\n",
    "            )\n",
    "                                        )\n",
    "                                    )\n",
    "\n",
    "    # This is probably not going to work\n",
    "    resources = driver.find_element(By.XPATH, '//*[@id=\"Resources\"]/div') \n",
    "\n",
    "    comments_btn = driver.find_element(By.XPATH, '//*[@id=\"Main\"]/div/div/div[1]\\\n",
    "                        /div/div[1]/div[2]/div/div/div/div[6]')\n",
    "    comments_btn.click()\n",
    "\n",
    "    WebDriverWait(driver, 20).until(\n",
    "        EC.visibility_of_element_located(\n",
    "            (By.XPATH, '//*[@id=\"Main\"]/div/div/div[1]/div\\\n",
    "                        /div[2]/div[5]/div/div[1]/form/button'\n",
    "            )\n",
    "                                        )\n",
    "                                    )\n",
    "    # comments = driver.find_element(By.XPATH, '//*[@id=\"Main\"]/div/div/div\\\n",
    "    #                                 [1]/div/div[2]/div[5]/div')\n",
    "    comments = driver.page_source\n",
    "    \n",
    "    arr = [comments, resources, instrucs, code]\n",
    "    for i in arr:\n",
    "        lst.append(i)\n",
    "    \n",
    "    # solutions_btn = driver.find_element(By.XPATH, '//*[@id=\"Main\"]/div/div/div[1]\\\n",
    "    #                                         /div/div[1]/div[2]/div/div/div/div[5]')\n",
    "    # solutions_btn.click()\n",
    "    \n",
    "    # WebDriverWait(driver, 20).until(\n",
    "    #     EC.visibility_of_element_located(\n",
    "    #         (By.XPATH, '//*[@id=\"Main\"]/div/\\\n",
    "    #             div/div[1]/div/div[2]\\\n",
    "    #             /div[4]/div/div/h3/div[2]/a'\n",
    "    #         )\n",
    "    #                                     )\n",
    "    #                                 )    \n",
    "    \n",
    "    #     # This is probably not going to work\n",
    "    # solutions = driver.find_element(By.XPATH, '//*[@id=\"Main\"]/div/div\\\n",
    "    #                                     /div[1]/div/div[2]/div[4]/div') \n",
    "    \n",
    "\n",
    "start_driver()\n",
    "\n",
    "\n"
   ]
  },
  {
   "cell_type": "code",
   "execution_count": 33,
   "metadata": {},
   "outputs": [
    {
     "name": "stdout",
     "output_type": "stream",
     "text": [
      "ADD RESOURCEC++ Keywords: boolwww.functionx.comThe Boolean data type is used to declare a variable whose value will be set as true (1) or false (0). To declare such a value, you use the bool keyword. The variable ca …5 EditThe History of 'Hello, World'blog.hackerrank.comWho knew that the basic 'Hello, World' program is such a pivotal part of the history of programming?4 EditBool Data Type in C++www.geeksforgeeks.orgThe ISO/ANSI C++ Standard has added certain new data types to the original C++ specifications.They are provided to provide better control in certain situations as well  …4 Edit\n"
     ]
    }
   ],
   "source": [
    "print(lst[1].text)"
   ]
  },
  {
   "cell_type": "code",
   "execution_count": null,
   "metadata": {},
   "outputs": [],
   "source": []
  }
 ],
 "metadata": {
  "kernelspec": {
   "display_name": "Python 3.10.1 64-bit",
   "language": "python",
   "name": "python3"
  },
  "language_info": {
   "codemirror_mode": {
    "name": "ipython",
    "version": 3
   },
   "file_extension": ".py",
   "mimetype": "text/x-python",
   "name": "python",
   "nbconvert_exporter": "python",
   "pygments_lexer": "ipython3",
   "version": "3.10.1"
  },
  "orig_nbformat": 4,
  "vscode": {
   "interpreter": {
    "hash": "aee8b7b246df8f9039afb4144a1f6fd8d2ca17a180786b69acc140d282b71a49"
   }
  }
 },
 "nbformat": 4,
 "nbformat_minor": 2
}
