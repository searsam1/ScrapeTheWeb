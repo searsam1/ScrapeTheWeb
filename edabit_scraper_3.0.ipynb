{
 "cells": [
  {
   "cell_type": "code",
   "execution_count": null,
   "metadata": {},
   "outputs": [],
   "source": [
    "from time import sleep\n",
    "import os\n",
    "import subprocess\n",
    "from bs4 import BeautifulSoup\n",
    "import time\n",
    "from selenium import webdriver\n",
    "from selenium.webdriver.common.by import By\n",
    "from selenium.webdriver.common.keys import Keys\n",
    "from selenium.webdriver.support.ui import WebDriverWait\n",
    "from selenium.webdriver.support import expected_conditions as EC\n",
    "from string import punctuation, printable"
   ]
  },
  {
   "cell_type": "code",
   "execution_count": null,
   "metadata": {},
   "outputs": [],
   "source": [
    "class Edabit():\n",
    "\n",
    "    link = subprocess.run(['osascript', '-e ' 'tell app \"safari\"\\\n",
    "                        to get the url of the current tab of window 1']\n",
    "        , capture_output=True).stdout\n",
    "\n",
    "    def __init__(self,link=link):\n",
    "        self.driver = webdriver.Safari()\n",
    "        self.driver.get(link.decode())\n",
    "\n",
    "    def wait_until_vis(self,xpath,wait_time=20):\n",
    "        WebDriverWait(self.driver, wait_time).until(\n",
    "            EC.visibility_of_element_located(\n",
    "                (By.XPATH, xpath)))    \n",
    "\n",
    "    def find_by_xpath(self, xpath):\n",
    "        return self.driver.find_element(By.XPATH,xpath)\n",
    "\n",
    "    def control_string_len(string,block_length=75):\n",
    "        blocks = [] \n",
    "        if len(string) > block_length:\n",
    "            for i in range(0, len(string), block_length):\n",
    "                block = string[i:i+block_length]\n",
    "                blocks.append(block)\n",
    "        writable_string = \"-\\n\".join(blocks)\n",
    "        return writable_string\n",
    "\n"
   ]
  },
  {
   "cell_type": "code",
   "execution_count": null,
   "metadata": {},
   "outputs": [],
   "source": [
    "eda = Edabit()\n",
    "\n",
    "eda.wait_until_vis('//*[@id=\"Main\"]/div/div/div[1]/div/div[2]/div[1]/div/div[1]/div[1]/h2')\n",
    "source1 = eda.driver.page_source\n",
    "\n",
    "eda.find_by_xpath('//*[@id=\"Main\"]/div/div/div[1]/div/div[1]/div[2]/div/div/div/div[3]').click()\n",
    "source2 = eda.driver.page_source\n",
    "\n",
    "eda.find_by_xpath('//*[@id=\"Main\"]/div/div/div[2]/div/div[1]/div/div/div/div/div[2]').click()\n",
    "sleep(.23)\n",
    "source3 = eda.driver.page_source\n"
   ]
  },
  {
   "cell_type": "code",
   "execution_count": null,
   "metadata": {},
   "outputs": [],
   "source": [
    "soup = BeautifulSoup(source2, 'lxml')\n",
    "code = soup.textarea.text"
   ]
  },
  {
   "cell_type": "code",
   "execution_count": null,
   "metadata": {},
   "outputs": [],
   "source": [
    "soup = BeautifulSoup(source1, 'lxml')\n",
    "\n",
    "title = soup.find('h2').text\n",
    "author = soup.find('a', style=\"color: rgb(41, 135, 205); font-weight: 700;\").text\n",
    "objective = \"\\n\".join(i.text for i in soup.find_all(['p','li']))\n",
    "examples = soup.pre.text\n",
    "\n",
    "for i in [title, objective, author, examples, code, tests]:\n",
    "    print()\n",
    "    print(i)\n",
    "    print()\n"
   ]
  }
 ],
 "metadata": {
  "kernelspec": {
   "display_name": "Python 3.10.1 64-bit",
   "language": "python",
   "name": "python3"
  },
  "language_info": {
   "codemirror_mode": {
    "name": "ipython",
    "version": 3
   },
   "file_extension": ".py",
   "mimetype": "text/x-python",
   "name": "python",
   "nbconvert_exporter": "python",
   "pygments_lexer": "ipython3",
   "version": "3.10.1"
  },
  "orig_nbformat": 4,
  "vscode": {
   "interpreter": {
    "hash": "aee8b7b246df8f9039afb4144a1f6fd8d2ca17a180786b69acc140d282b71a49"
   }
  }
 },
 "nbformat": 4,
 "nbformat_minor": 2
}
