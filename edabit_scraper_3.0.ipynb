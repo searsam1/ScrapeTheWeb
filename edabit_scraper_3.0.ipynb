{
 "cells": [
  {
   "cell_type": "code",
   "execution_count": 23,
   "metadata": {},
   "outputs": [],
   "source": [
    "#Alec Sears\n",
    "from datetime import datetime\n",
    "from time import sleep\n",
    "import os\n",
    "import subprocess\n",
    "from bs4 import BeautifulSoup\n",
    "from selenium import webdriver\n",
    "from selenium.webdriver.common.by import By\n",
    "from selenium.webdriver.support.ui import WebDriverWait\n",
    "from selenium.webdriver.support import expected_conditions as EC"
   ]
  },
  {
   "cell_type": "code",
   "execution_count": 24,
   "metadata": {},
   "outputs": [],
   "source": [
    "class Edabit():\n",
    "\n",
    "    link = subprocess.run(['osascript', '-e ' 'tell app \"safari\"\\\n",
    "                        to get the url of the current tab of window 1']\n",
    "        , capture_output=True).stdout.strip(b'\\n').decode()        \n",
    "\n",
    "    def __init__(self,link=link):\n",
    "        self.driver = webdriver.Safari()\n",
    "        self.driver.get(link)\n",
    "        self.id = link.split(\"/\")[-1]\n",
    "\n",
    "    def wait_until_vis(self,xpath,wait_time=20):\n",
    "        WebDriverWait(self.driver, wait_time).until(\n",
    "            EC.visibility_of_element_located(\n",
    "                (By.XPATH, xpath)))    \n",
    "\n",
    "    def find_by_xpath(self, xpath):\n",
    "        return self.driver.find_element(By.XPATH,xpath)\n",
    "\n",
    "    def control_string_len(string,block_length=75):\n",
    "        blocks = [] \n",
    "        if len(string) > block_length:\n",
    "            for i in range(0, len(string), block_length):\n",
    "                block = string[i:i+block_length]\n",
    "                blocks.append(block)\n",
    "        writable_string = \"-\\n\".join(blocks)\n",
    "        return writable_string\n",
    "\n"
   ]
  },
  {
   "cell_type": "code",
   "execution_count": 25,
   "metadata": {},
   "outputs": [],
   "source": [
    "eda = Edabit()\n",
    "\n",
    "eda.wait_until_vis('//*[@id=\"Main\"]/div/div/div[1]/div/div[2]/div[1]/div/div[1]/div[1]/h2')\n",
    "source1 = eda.driver.page_source\n",
    "\n",
    "eda.find_by_xpath('//*[@id=\"Main\"]/div/div/div[1]/div/div[1]/div[2]/div/div/div/div[3]').click()\n",
    "source2 = eda.driver.page_source\n",
    "\n",
    "eda.find_by_xpath('//*[@id=\"Main\"]/div/div/div[2]/div/div[1]/div/div/div/div/div[2]').click()\n",
    "sleep(.23)\n",
    "source3 = eda.driver.page_source\n"
   ]
  },
  {
   "cell_type": "code",
   "execution_count": 26,
   "metadata": {},
   "outputs": [],
   "source": [
    "file_exts = {\n",
    "    \"C++\" : [\".cpp\",\"CPP\"],\n",
    "    \"C#\" : [\".cs\",\"csharp\"],\n",
    "    \"Java\" : [\".java\",\"java\"],\n",
    "    \"JavaScript\" : [\".js\",\"javaScript\"],\n",
    "    \"PHP\" : [\".php\",\"php\"],\n",
    "    \"Python\" : [\".py\", \"python\"],\n",
    "    \"Ruby\" : [\".rb\",\"ruby\"],\n",
    "    \"Swift\" : [\".swift\",\"swift\"]\n",
    "}\n",
    "\n",
    "file_ext = eda.find_by_xpath('//*[@id=\"Main\"]/div/div/div[1]/div/div[2]/div[1]/div/div/div[1]/div[1]/div/div[1]')\n",
    "ext = file_exts[file_ext.text][0]\n",
    "ext_loc = file_exts[file_ext.text][1]\n",
    "\n"
   ]
  },
  {
   "cell_type": "code",
   "execution_count": 27,
   "metadata": {},
   "outputs": [],
   "source": [
    "soup = BeautifulSoup(source2, 'lxml')\n",
    "code = soup.textarea.text\n",
    "\n"
   ]
  },
  {
   "cell_type": "code",
   "execution_count": 28,
   "metadata": {},
   "outputs": [],
   "source": [
    "soup = BeautifulSoup(source3, 'lxml')\n",
    "# still in alpha stages\n",
    "tests_file = soup.find_all(class_=\"six wide column\")[0].text\n",
    "tests_file = tests_file.split(\"\\n\")\n",
    "tests_file[-1] = tests_file[-1].split(\"xxxxxxxxxx\")[0]"
   ]
  },
  {
   "cell_type": "code",
   "execution_count": 29,
   "metadata": {},
   "outputs": [
    {
     "name": "stdout",
     "output_type": "stream",
     "text": [
      "Already up to date.\n",
      "[main eaad161] Create Challenge : CzYisnM5k7ndRPbey on 2022-06-27 18:32:19.807262\n",
      " 3 files changed, 1 insertion(+)\n",
      " create mode 100644 javaScript/CzYisnM5k7ndRPbey/.gitignore\n",
      " rename javaScript/{ => CzYisnM5k7ndRPbey}/code.js (100%)\n",
      " rename javaScript/{ => CzYisnM5k7ndRPbey}/readme.md (100%)\n"
     ]
    },
    {
     "name": "stderr",
     "output_type": "stream",
     "text": [
      "To github.com:searsam1/theEdabitProject.git\n",
      "   9cdffcf..eaad161  main -> main\n"
     ]
    },
    {
     "data": {
      "text/plain": [
       "0"
      ]
     },
     "execution_count": 29,
     "metadata": {},
     "output_type": "execute_result"
    }
   ],
   "source": [
    "soup = BeautifulSoup(source1, 'lxml')\n",
    "\n",
    "title = soup.find('h2').text\n",
    "author = soup.find('a', style=\"color: rgb(41, 135, 205); font-weight: 700;\").text\n",
    "objective = \"\\n\".join(i.text for i in soup.find_all(['p','li']))\n",
    "examples = soup.pre.text\n",
    "\n",
    "arr = [title, author, objective, examples, code]\n",
    "\n",
    "\n",
    "hash = eda.id\n",
    "\n",
    "os.chdir(f\"/Users/111244rfsf/Documents/Repositories/theEdabitProject/theEdabitProjectRepo/{ext_loc}\")\n",
    "\n",
    "try:\n",
    "    os.mkdir(hash)\n",
    "except FileExistsError:\n",
    "    pass\n",
    "\n",
    "os.chdir(hash)\n",
    "\n",
    "with open(\"readme.md\", \"w\") as f:\n",
    "    f.write(\"# \" + title + \"\\n<br><br>\\n\")\n",
    "    f.write(\"## \" + author +\"\\n<br><br>\\n\")\n",
    "    f.write(\"### \\\"\\\"\\\"\" + objective +\"\\\"\\\"\\\"\\n<br><br>\\n\")\n",
    "    f.write(f\"[{eda.id}]({eda.link})\" +\"\\n<br><br>\\n\")\n",
    "    f.write(\"```\" + examples + \"\\n```\\n\" + \"\\n<br><br>\\n\" )\n",
    "\n",
    "\n",
    "with open(f\"code{ext}\", \"w\") as f:\n",
    "    f.write(code)\n",
    "    for i in tests_file:\n",
    "        f.write(\"\\n\\n\")\n",
    "        f.write(i)\n",
    "os.system(\"open readme.md\")\n",
    "os.system(f\"open -a Visual\\\\ Studio\\\\ Code code{ext}\")\n",
    "eda.driver.close()\n",
    "\n",
    "# Git add, commit, push\n",
    "os.system('echo \".DS_Store\" > .gitignore')\n",
    "os.chdir(\"/Users/111244rfsf/Documents/Repositories/theEdabitProject/theEdabitProjectRepo\")\n",
    "os.system(\"git pull\")\n",
    "os.system(\"git add .\")\n",
    "os.system(f\"git commit -m 'Create Challenge : {eda.id} on {datetime.now()}'\")\n",
    "os.system(\"git push\")"
   ]
  },
  {
   "cell_type": "code",
   "execution_count": null,
   "metadata": {},
   "outputs": [],
   "source": []
  }
 ],
 "metadata": {
  "kernelspec": {
   "display_name": "Python 3.10.1 64-bit",
   "language": "python",
   "name": "python3"
  },
  "language_info": {
   "codemirror_mode": {
    "name": "ipython",
    "version": 3
   },
   "file_extension": ".py",
   "mimetype": "text/x-python",
   "name": "python",
   "nbconvert_exporter": "python",
   "pygments_lexer": "ipython3",
   "version": "3.10.1"
  },
  "orig_nbformat": 4,
  "vscode": {
   "interpreter": {
    "hash": "aee8b7b246df8f9039afb4144a1f6fd8d2ca17a180786b69acc140d282b71a49"
   }
  }
 },
 "nbformat": 4,
 "nbformat_minor": 2
}
