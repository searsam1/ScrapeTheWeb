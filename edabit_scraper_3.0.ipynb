{
 "cells": [
  {
   "cell_type": "code",
   "execution_count": 34,
   "metadata": {},
   "outputs": [],
   "source": [
    "#Alec Sears\n",
    "from datetime import datetime\n",
    "from time import sleep\n",
    "import os\n",
    "import subprocess\n",
    "from bs4 import BeautifulSoup\n",
    "from selenium import webdriver\n",
    "from selenium.webdriver.common.by import By\n",
    "from selenium.webdriver.support.ui import WebDriverWait\n",
    "from selenium.webdriver.support import expected_conditions as EC"
   ]
  },
  {
   "cell_type": "code",
   "execution_count": 35,
   "metadata": {},
   "outputs": [],
   "source": [
    "class Edabit():\n",
    "\n",
    "    link = subprocess.run(['osascript', '-e ' 'tell app \"safari\"\\\n",
    "                        to get the url of the current tab of window 1']\n",
    "        , capture_output=True).stdout.strip(b'\\n').decode()        \n",
    "\n",
    "    def __init__(self,link=link):\n",
    "        self.driver = webdriver.Safari()\n",
    "        self.driver.get(link)\n",
    "        self.id = link.split(\"/\")[-1]\n",
    "\n",
    "    def wait_until_vis(self,xpath,wait_time=20):\n",
    "        WebDriverWait(self.driver, wait_time).until(\n",
    "            EC.visibility_of_element_located(\n",
    "                (By.XPATH, xpath)))    \n",
    "\n",
    "    def find_by_xpath(self, xpath):\n",
    "        return self.driver.find_element(By.XPATH,xpath)\n",
    "\n",
    "    def control_string_len(string,block_length=75):\n",
    "        blocks = [] \n",
    "        if len(string) > block_length:\n",
    "            for i in range(0, len(string), block_length):\n",
    "                block = string[i:i+block_length]\n",
    "                blocks.append(block)\n",
    "        writable_string = \"-\\n\".join(blocks)\n",
    "        return writable_string\n",
    "\n"
   ]
  },
  {
   "cell_type": "code",
   "execution_count": 36,
   "metadata": {},
   "outputs": [],
   "source": [
    "eda = Edabit()\n",
    "\n",
    "eda.wait_until_vis('//*[@id=\"Main\"]/div/div/div[1]/div/div[2]/div[1]/div/div[1]/div[1]/h2')\n",
    "source1 = eda.driver.page_source\n",
    "\n",
    "eda.find_by_xpath('//*[@id=\"Main\"]/div/div/div[1]/div/div[1]/div[2]/div/div/div/div[3]').click()\n",
    "source2 = eda.driver.page_source\n",
    "\n",
    "eda.find_by_xpath('//*[@id=\"Main\"]/div/div/div[2]/div/div[1]/div/div/div/div/div[2]').click()\n",
    "sleep(.23)\n",
    "source3 = eda.driver.page_source\n"
   ]
  },
  {
   "cell_type": "code",
   "execution_count": 37,
   "metadata": {},
   "outputs": [
    {
     "data": {
      "text/plain": [
       "'.py'"
      ]
     },
     "execution_count": 37,
     "metadata": {},
     "output_type": "execute_result"
    }
   ],
   "source": [
    "file_exts = {\n",
    "    \"C++\" : \".cpp\",\n",
    "    \"C#\" : \".cs\",\n",
    "    \"Java\" : \".java\",\n",
    "    \"JavaScript\" : \".js\",\n",
    "    \"PHP\" : \".php\",\n",
    "    \"Python\" : \".py\",\n",
    "    \"Ruby\" : \".rb\",\n",
    "    \"Swift\" : \".swift\",\n",
    "\n",
    "\n",
    "    \n",
    "}\n",
    "\n",
    "file_ext = eda.find_by_xpath('//*[@id=\"Main\"]/div/div/div[1]/div/div[2]/div[1]/div/div/div[1]/div[1]/div/div[1]')\n",
    "ext = file_exts[file_ext.text]\n",
    "ext\n",
    "\n"
   ]
  },
  {
   "cell_type": "code",
   "execution_count": 38,
   "metadata": {},
   "outputs": [],
   "source": [
    "soup = BeautifulSoup(source2, 'lxml')\n",
    "code = soup.textarea.text\n",
    "\n"
   ]
  },
  {
   "cell_type": "code",
   "execution_count": 39,
   "metadata": {},
   "outputs": [
    {
     "name": "stdout",
     "output_type": "stream",
     "text": [
      "Already up to date.\n",
      "[main 232325b] 2022-06-24 03:52:43.829480\n",
      " 4 files changed, 24 insertions(+), 3 deletions(-)\n",
      " create mode 100644 8WvpPQto44PqNLSqJ/.gitignore\n",
      " create mode 100644 8WvpPQto44PqNLSqJ/code.py\n",
      " create mode 100644 8WvpPQto44PqNLSqJ/readme.md\n",
      " delete mode 100644 zqJkZGJkT8MNPNQGW/code..php\n"
     ]
    },
    {
     "name": "stderr",
     "output_type": "stream",
     "text": [
      "To github.com:searsam1/theEdabitProject.git\n",
      "   ae77114..232325b  main -> main\n"
     ]
    },
    {
     "data": {
      "text/plain": [
       "0"
      ]
     },
     "execution_count": 39,
     "metadata": {},
     "output_type": "execute_result"
    }
   ],
   "source": [
    "soup = BeautifulSoup(source1, 'lxml')\n",
    "\n",
    "title = soup.find('h2').text\n",
    "author = soup.find('a', style=\"color: rgb(41, 135, 205); font-weight: 700;\").text\n",
    "objective = \"\\n\".join(i.text for i in soup.find_all(['p','li']))\n",
    "examples = soup.pre.text\n",
    "\n",
    "arr = [title, author, objective, examples, code]\n",
    "\n",
    "\n",
    "hash = eda.id\n",
    "\n",
    "os.chdir(\"/Users/111244rfsf/Documents/Repositories/theEdabitProject/theEdabitProjectRepo\")\n",
    "try:\n",
    "    os.mkdir(hash)\n",
    "except FileExistsError:\n",
    "    pass\n",
    "\n",
    "os.chdir(hash)\n",
    "\n",
    "with open(\"readme.md\", \"w\") as f:\n",
    "    f.write(\"# \" + title + \"\\n<br><br>\\n\")\n",
    "    f.write(\"## \" + author +\"\\n<br><br>\\n\")\n",
    "    f.write(\"### \\\"\\\"\\\"\" + objective +\"\\\"\\\"\\\"\\n<br><br>\\n\")\n",
    "    f.write(f\"[{eda.id}]({eda.link})\" +\"\\n<br><br>\\n\")\n",
    "    f.write(\"```\" + examples + \"\\n```\\n\" + \"\\n<br><br>\\n\" )\n",
    "\n",
    "\n",
    "with open(f\"code{ext}\", \"w\") as f:\n",
    "    f.write(code)    \n",
    "os.system(\"open readme.md\")\n",
    "os.system(f\"open -a Visual\\\\ Studio\\\\ Code code{ext}\")\n",
    "eda.driver.close()\n",
    "\n",
    "# Git add, commit, push\n",
    "os.system('echo \".DS_Store\" > .gitignore')\n",
    "os.chdir(\"/Users/111244rfsf/Documents/Repositories/theEdabitProject/theEdabitProjectRepo\")\n",
    "os.system(\"git pull\")\n",
    "os.system(\"git add .\")\n",
    "os.system(f\"git commit -m '{datetime.now()}'\")\n",
    "os.system(\"git push\")"
   ]
  },
  {
   "cell_type": "code",
   "execution_count": null,
   "metadata": {},
   "outputs": [],
   "source": []
  }
 ],
 "metadata": {
  "kernelspec": {
   "display_name": "Python 3.10.1 64-bit",
   "language": "python",
   "name": "python3"
  },
  "language_info": {
   "codemirror_mode": {
    "name": "ipython",
    "version": 3
   },
   "file_extension": ".py",
   "mimetype": "text/x-python",
   "name": "python",
   "nbconvert_exporter": "python",
   "pygments_lexer": "ipython3",
   "version": "3.10.1"
  },
  "orig_nbformat": 4,
  "vscode": {
   "interpreter": {
    "hash": "aee8b7b246df8f9039afb4144a1f6fd8d2ca17a180786b69acc140d282b71a49"
   }
  }
 },
 "nbformat": 4,
 "nbformat_minor": 2
}
