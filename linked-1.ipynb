{
 "cells": [
  {
   "cell_type": "code",
   "execution_count": 19,
   "metadata": {},
   "outputs": [
    {
     "name": "stdout",
     "output_type": "stream",
     "text": [
      "\n",
      "def start_driver():\n",
      "    link = subprocess.run(['osascript', '-e ' 'tell app \"safari\"\\\n",
      "                        to get the url of the current tab of window 1']\n",
      "    , capture_output=True).stdout\n",
      "    link = link.rstrip(b\"\\n\") \n",
      "\n",
      "    driver = webdriver.Safari()\n",
      "    driver.get(link.decode())\n",
      "\n",
      "    WebDriverWait(driver, 20).until(\n",
      "        EC.visibility_of_element_located(\n",
      "            (By.XPATH, '//*[@id=\"Main\"]/div/\\\n",
      "                        div/div[1]/div/div[2]\\\n",
      "                        /div[1]/div/div/div[1]'\n",
      "            )\n",
      "                                        )\n",
      "                                    )\n",
      "\n",
      "    instrucs = driver.find_element(By.XPATH, '//*[@id=\"Main\"]/div/div/\\\n",
      "                                        div[1]/div/div[2]/div[1]/div')\n",
      "    print(instrucs.text)\n",
      "\n"
     ]
    }
   ],
   "source": [
    "#⠀⠀⠀⠀\n",
    "f = r\"\"\"\n",
    "def start_driver():\n",
    "    link = subprocess.run(['osascript', '-e ' 'tell app \"safari\"\\\n",
    "                        to get the url of the current tab of window 1']\n",
    "    , capture_output=True).stdout\n",
    "    link = link.rstrip(b\"\\n\") \n",
    "\n",
    "    driver = webdriver.Safari()\n",
    "    driver.get(link.decode())\n",
    "\n",
    "    WebDriverWait(driver, 20).until(\n",
    "        EC.visibility_of_element_located(\n",
    "            (By.XPATH, '//*[@id=\"Main\"]/div/\\\n",
    "                        div/div[1]/div/div[2]\\\n",
    "                        /div[1]/div/div/div[1]'\n",
    "            )\n",
    "                                        )\n",
    "                                    )\n",
    "\n",
    "    instrucs = driver.find_element(By.XPATH, '//*[@id=\"Main\"]/div/div/\\\n",
    "                                        div[1]/div/div[2]/div[1]/div')\n",
    "    print(instrucs.text)\n",
    "\"\"\".split(\"\\n\")\n",
    "\n",
    "f = [i.replace(\"\\t\", \"⠀⠀⠀⠀\") for i in f]\n",
    "f = \"\\n\".join(f)\n",
    "print(f)\n",
    "\n"
   ]
  }
 ],
 "metadata": {
  "kernelspec": {
   "display_name": "Python 3.10.1 64-bit",
   "language": "python",
   "name": "python3"
  },
  "language_info": {
   "codemirror_mode": {
    "name": "ipython",
    "version": 3
   },
   "file_extension": ".py",
   "mimetype": "text/x-python",
   "name": "python",
   "nbconvert_exporter": "python",
   "pygments_lexer": "ipython3",
   "version": "3.10.1"
  },
  "orig_nbformat": 4,
  "vscode": {
   "interpreter": {
    "hash": "aee8b7b246df8f9039afb4144a1f6fd8d2ca17a180786b69acc140d282b71a49"
   }
  }
 },
 "nbformat": 4,
 "nbformat_minor": 2
}
